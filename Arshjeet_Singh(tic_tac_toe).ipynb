{
  "nbformat": 4,
  "nbformat_minor": 0,
  "metadata": {
    "colab": {
      "name": "ML_IMV_2021_INT_Arshjeet Singh(tic-tac-toe).ipynb",
      "provenance": []
    },
    "kernelspec": {
      "name": "python3",
      "display_name": "Python 3"
    },
    "language_info": {
      "name": "python"
    }
  },
  "cells": [
    {
      "cell_type": "code",
      "execution_count": null,
      "metadata": {
        "id": "h7doBuDkVhTH"
      },
      "outputs": [],
      "source": [
        "#1 Create display board\n",
        "from IPython.display import clear_output\n",
        "def display(test_board):\n",
        "  clear_output()\n",
        "  print(test_board[7] +\"|\" +test_board[8] + \"|\" +test_board[9])\n",
        "  print(test_board[4] +\"|\" +test_board[5] + \"|\" +test_board[6])\n",
        "  print(test_board[1] +\"|\" +test_board[2] + \"|\" +test_board[3])"
      ]
    },
    {
      "cell_type": "code",
      "source": [
        "#2 Take input from user If they want to be '0' or 'X'\n",
        "def player_input():\n",
        "  marker=\"\"\n",
        "  while not(marker=='X' or marker=='O'):\n",
        "    marker=input(\"Player 1:Do you want to be X or O\").upper()\n",
        "  if marker=='X':\n",
        "    return('X','O')\n",
        "  else:\n",
        "    return('O','X')\n"
      ],
      "metadata": {
        "id": "q2nw_Yf5Vlsb"
      },
      "execution_count": null,
      "outputs": []
    },
    {
      "cell_type": "code",
      "source": [
        "player1_marker,player2_marker=player_input()\n",
        "print(player1_marker)\n",
        "print(player2_marker)\n"
      ],
      "metadata": {
        "colab": {
          "base_uri": "https://localhost:8080/"
        },
        "id": "IYhAo3JHXgV2",
        "outputId": "e43f7107-28f1-4408-c7cc-f9aab28ea6a7"
      },
      "execution_count": null,
      "outputs": [
        {
          "output_type": "stream",
          "name": "stdout",
          "text": [
            "Player 1:Do you want to be X or Ox\n",
            "X\n",
            "O\n"
          ]
        }
      ]
    },
    {
      "cell_type": "code",
      "source": [
        "#3Fill the user value on board\n",
        "def place_marker(board,marker,position):\n",
        "  board[position]=marker"
      ],
      "metadata": {
        "id": "WXV65RN8VpSj"
      },
      "execution_count": null,
      "outputs": []
    },
    {
      "cell_type": "code",
      "source": [
        "test_board=[\"Z\",\"A\",\"B\",\"C\",\"D\",\"E\",\"F\",\"G\",\"H\",\"I\"]\n",
        "display(test_board)\n",
        "place_marker(test_board,\"P\",4)\n",
        "display(test_board)\n"
      ],
      "metadata": {
        "colab": {
          "base_uri": "https://localhost:8080/"
        },
        "id": "SPKmShLuZdmj",
        "outputId": "493f7590-61fd-46e7-e383-0aaec2a27865"
      },
      "execution_count": null,
      "outputs": [
        {
          "output_type": "stream",
          "name": "stdout",
          "text": [
            "G|H|I\n",
            "P|E|F\n",
            "A|B|C\n"
          ]
        }
      ]
    },
    {
      "cell_type": "code",
      "source": [
        "#4 Winning goals\n",
        "def win_check(board,mark):\n",
        "  return((board[7]==mark and board[8]==mark and board[9]==mark) or#check across the top\n",
        "  (board[4]==mark and board[5]==mark and board[6]==mark) or\n",
        "  (board[1]==mark and board[2]==mark and board[3]==mark) or\n",
        "  (board[7]==mark and board[4]==mark and board[1]==mark) or\n",
        "  (board[8]==mark and board[5]==mark and board[2]==mark) or\n",
        "  (board[9]==mark and board[6]==mark and board[3]==mark) or\n",
        "  (board[7]==mark and board[5]==mark and board[3]==mark) or\n",
        "  (board[9]==mark and board[5]==mark and board[1]==mark))\n",
        "  #across the middle\n",
        "  #across the bottom\n",
        "  #down the left side \n",
        "  #down the middle\n",
        "  #down the right side\n",
        "  #diagonal"
      ],
      "metadata": {
        "id": "BFGrfhEUVtuc"
      },
      "execution_count": null,
      "outputs": []
    },
    {
      "cell_type": "code",
      "source": [
        "#5 If space is empty\n",
        "def space_check(board,position):\n",
        "  return board[position]==\" \"\n",
        "\n"
      ],
      "metadata": {
        "id": "4ujLq4FBVxFY"
      },
      "execution_count": null,
      "outputs": []
    },
    {
      "cell_type": "code",
      "source": [
        "#6 Decide whoes turn is first\n",
        "import random\n",
        "def choose_first():\n",
        "  if random.randint(0,1)==0:\n",
        "    return 'Player2'\n",
        "  else:\n",
        "    return 'Player1'  "
      ],
      "metadata": {
        "id": "sU1AkSGmV0jn"
      },
      "execution_count": null,
      "outputs": []
    },
    {
      "cell_type": "code",
      "source": [
        "#7 If the board is already full\n",
        "def full_board_check(board):\n",
        "  for i in range(1,10):\n",
        "    if(space_check(board,i)):\n",
        "      return False\n",
        "  return True    \n"
      ],
      "metadata": {
        "id": "6xvaBhV7V48K"
      },
      "execution_count": null,
      "outputs": []
    },
    {
      "cell_type": "code",
      "source": [
        "#8 Take the input from user\n",
        "def player_choice(board):\n",
        "  position=0\n",
        "  while position not in [1,2,3,4,5,6,7,8,9] or not space_check(board,position):\n",
        "    position=int(input(\"Enter your position (1-9)\"))\n",
        "  return position  "
      ],
      "metadata": {
        "id": "xAmGO5IoWJ8P"
      },
      "execution_count": null,
      "outputs": []
    },
    {
      "cell_type": "code",
      "source": [
        "#9 If the user wants to play it again\n",
        "def replay():\n",
        "  return input(\"You want to play again (yes,no)\").lower().startswith('y')\n",
        "  "
      ],
      "metadata": {
        "id": "WVpz9j_8WRXI"
      },
      "execution_count": null,
      "outputs": []
    },
    {
      "cell_type": "code",
      "source": [
        "#Compile them\n",
        "print(\"Welcome to Tic-Tac Toe!!!\")\n",
        "while True:\n",
        "  theBoard=[\" \"]*10\n",
        "  player1_marker ,player2_marker=player_input()\n",
        "  turn=choose_first()\n",
        "  print(turn +\" will go first\")\n",
        "\n",
        "  play_game=input(\"Do u want to play it again (Yes/No)\")\n",
        "  if play_game.lower()[0]=='y':\n",
        "    game_on=True\n",
        "  else:\n",
        "    game_on=False\n",
        "  while game_on:\n",
        "    if turn=='Player 1':\n",
        "      display(theBoard)\n",
        "      position=player_choice(theBoard)\n",
        "      place_marker(theBoard,player1_marker,position)\n",
        "      if win_check(theBoard,player1_marker):\n",
        "        display(theBoard)\n",
        "        print(\"Congratulation you have won the game\")\n",
        "        game_on=False\n",
        "      else:\n",
        "        if full_board_check(theBoard):\n",
        "          display(theBoard)\n",
        "          print(\"The game is draw!!\")\n",
        "          break\n",
        "        else:\n",
        "          turn =\"Player 2\"\n",
        "    else:\n",
        "       display(theBoard)\n",
        "       position=player_choice(theBoard)\n",
        "       place_marker(theBoard,player2_marker,position)\n",
        "       if win_check(theBoard,player2_marker):\n",
        "         display(theBoard)\n",
        "         print(\"Congratulation you have won the game\")\n",
        "         game_on=False\n",
        "       else:\n",
        "         if full_board_check(theBoard):\n",
        "           display(theBoard)\n",
        "           print(\"The game is draw!!\")\n",
        "           break\n",
        "         else:\n",
        "           turn =\"Player 1\"             \n",
        "  if not replay():\n",
        "    break\n"
      ],
      "metadata": {
        "colab": {
          "base_uri": "https://localhost:8080/"
        },
        "id": "kha3YAHyBOVd",
        "outputId": "41285a7c-d7d4-49bb-da1f-47edeeccb7c5"
      },
      "execution_count": null,
      "outputs": [
        {
          "name": "stdout",
          "output_type": "stream",
          "text": [
            " | |O\n",
            " |O|X\n",
            "O|X| \n",
            "Congratulation you have won the game\n",
            "You want to play again (yes,no)no\n"
          ]
        }
      ]
    }
  ]
}